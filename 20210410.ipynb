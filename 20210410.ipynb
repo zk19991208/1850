{
 "cells": [
  {
   "cell_type": "code",
   "execution_count": 4,
   "metadata": {
    "collapsed": true,
    "pycharm": {
     "name": "#%% 莫烦python教程\n"
    }
   },
   "outputs": [
    {
     "ename": "ValueError",
     "evalue": "too many values to unpack (expected 2)",
     "output_type": "error",
     "traceback": [
      "\u001B[1;31m---------------------------------------------------------------------------\u001B[0m",
      "\u001B[1;31mValueError\u001B[0m                                Traceback (most recent call last)",
      "\u001B[1;32m<ipython-input-4-d62f8797524d>\u001B[0m in \u001B[0;36m<module>\u001B[1;34m\u001B[0m\n\u001B[0;32m      5\u001B[0m \u001B[1;33m\u001B[0m\u001B[0m\n\u001B[0;32m      6\u001B[0m \u001B[1;33m\u001B[0m\u001B[0m\n\u001B[1;32m----> 7\u001B[1;33m \u001B[1;32mfor\u001B[0m \u001B[0mi\u001B[0m\u001B[1;33m,\u001B[0m\u001B[0mj\u001B[0m \u001B[1;32min\u001B[0m \u001B[0mlist1\u001B[0m\u001B[1;33m,\u001B[0m\u001B[0mlist2\u001B[0m\u001B[1;33m:\u001B[0m\u001B[1;33m\u001B[0m\u001B[0m\n\u001B[0m\u001B[0;32m      8\u001B[0m     \u001B[0mprint\u001B[0m\u001B[1;33m(\u001B[0m\u001B[0mi\u001B[0m\u001B[1;33m,\u001B[0m\u001B[0mj\u001B[0m\u001B[1;33m)\u001B[0m\u001B[1;33m\u001B[0m\u001B[0m\n",
      "\u001B[1;31mValueError\u001B[0m: too many values to unpack (expected 2)"
     ]
    }
   ],
   "source": [
    "list1=[1,2,3]\n",
    "list2=[1,2,3]\n",
    "\n",
    "\n",
    "\n",
    "\n",
    "for i,j in list1,list2:\n",
    "    print(i,j)"
   ]
  },
  {
   "cell_type": "code",
   "execution_count": 8,
   "outputs": [
    {
     "data": {
      "text/plain": "2"
     },
     "execution_count": 8,
     "metadata": {},
     "output_type": "execute_result"
    }
   ],
   "source": [
    "y = lambda x : x+1\n",
    "y(1)"
   ],
   "metadata": {
    "collapsed": false,
    "pycharm": {
     "name": "#%%\n"
    }
   }
  },
  {
   "cell_type": "code",
   "execution_count": 11,
   "outputs": [
    {
     "data": {
      "text/plain": "[2, 3]"
     },
     "execution_count": 11,
     "metadata": {},
     "output_type": "execute_result"
    }
   ],
   "source": [
    "\n",
    "list(map(y,[1,2]))"
   ],
   "metadata": {
    "collapsed": false,
    "pycharm": {
     "name": "#%%\n"
    }
   }
  },
  {
   "cell_type": "code",
   "execution_count": 15,
   "outputs": [
    {
     "name": "stdout",
     "output_type": "stream",
     "text": [
      "2\n",
      "(2, 3)\n",
      "6\n"
     ]
    }
   ],
   "source": [
    "import numpy as np\n",
    "array = np.array([[1,2,3],\n",
    "                  [4,5,6]])\n",
    "print(array.ndim)\n",
    "print(array.shape)\n",
    "print(array.size)"
   ],
   "metadata": {
    "collapsed": false,
    "pycharm": {
     "name": "#%%2.1\n"
    }
   }
  },
  {
   "cell_type": "code",
   "execution_count": 30,
   "outputs": [
    {
     "name": "stdout",
     "output_type": "stream",
     "text": [
      "[[1. 2. 3.]\n",
      " [4. 5. 6.]]\n",
      "[[0. 0. 0. 0.]\n",
      " [0. 0. 0. 0.]\n",
      " [0. 0. 0. 0.]]\n",
      "[[ 0  1  2  3]\n",
      " [ 4  5  6  7]\n",
      " [ 8  9 10 11]]\n",
      "[[ 0.          0.52631579  1.05263158  1.57894737  2.10526316  2.63157895\n",
      "   3.15789474  3.68421053  4.21052632  4.73684211]\n",
      " [ 5.26315789  5.78947368  6.31578947  6.84210526  7.36842105  7.89473684\n",
      "   8.42105263  8.94736842  9.47368421 10.        ]]\n"
     ]
    }
   ],
   "source": [
    "import numpy as np\n",
    "a = np.array([[1,2,3],\n",
    "              [4,5,6]],dtype=np.float)\n",
    "print(a)\n",
    "b  = np.zeros((3,4))\n",
    "# np.empty()\n",
    "print(b)\n",
    "\n",
    "# c = np.arange(10,20,2)\n",
    "c = np.arange(12).reshape(3,4)\n",
    "print(c)\n",
    "\n",
    "# d = np.linspace(0,10,20)\n",
    "d = np.linspace(0,10,20).reshape(2,10)\n",
    "print(d)"
   ],
   "metadata": {
    "collapsed": false,
    "pycharm": {
     "name": "#%%2.2\n"
    }
   }
  },
  {
   "cell_type": "code",
   "execution_count": 32,
   "outputs": [
    {
     "name": "stdout",
     "output_type": "stream",
     "text": [
      "[[ True False False]\n",
      " [False False False]]\n",
      "[[0. 0. 0.]\n",
      " [0. 0. 0.]]\n"
     ]
    }
   ],
   "source": [
    "import numpy as np\n",
    "a = np.array([[1,2,3],\n",
    "              [4,5,6]],dtype=np.float)\n",
    "b = np.array([[1,2,3],\n",
    "              [4,5,6]],dtype=np.float)\n",
    "# c = a - b\n",
    "# c = a + b\n",
    "# c = b**2\n",
    "# c = np.sin(a)\n",
    "# c = np.cos(a)\n",
    "# c = a*b\n",
    "# c_dot = np.dot(a,b)\n",
    "# c_dot = a.dot(b)\n",
    "print(a<2)\n",
    "print(c)\n",
    "\n",
    "d = np.random.randn((2,4))\n",
    "print(d)\n",
    "# np.sum()\n",
    "# np.sum(d,axis=1)\n",
    "# np.min()\n",
    "# np.max()"
   ],
   "metadata": {
    "collapsed": false,
    "pycharm": {
     "name": "#%%2.3\n"
    }
   }
  },
  {
   "cell_type": "code",
   "execution_count": 33,
   "outputs": [
    {
     "data": {
      "text/plain": "0"
     },
     "execution_count": 33,
     "metadata": {},
     "output_type": "execute_result"
    }
   ],
   "source": [
    "import numpy as np\n",
    "a = np.array([[1,2,3],\n",
    "              [4,5,6]],dtype=np.float)\n",
    "b = np.array([[1,2,3],\n",
    "              [4,5,6]],dtype=np.float)\n",
    "\n",
    "# np.argmin(a)\n",
    "# np.argmax(a)\n",
    "# np.mean(a)\n",
    "# np.mean(a,axis=0)\n",
    "# a.mean()\n",
    "# np.average(a)\n",
    "# np.median(a)\n",
    "# np.cumsum(a)\n",
    "# np.diff(a)\n",
    "# np.nonzero(a)\n",
    "# np.sort(a)\n",
    "# np.transpose(a)\n",
    "# a.T\n",
    "# np.clip(a,5,9)"
   ],
   "metadata": {
    "collapsed": false,
    "pycharm": {
     "name": "#%%2.4\n"
    }
   }
  },
  {
   "cell_type": "code",
   "execution_count": 54,
   "outputs": [
    {
     "name": "stdout",
     "output_type": "stream",
     "text": [
      "3\n",
      "[ 4  8 12]\n",
      "[3 4 5 6]\n",
      "[ 7  8  9 10]\n",
      "[11 12 13 14]\n",
      "[ 3  7 11]\n",
      "[ 4  8 12]\n",
      "[ 5  9 13]\n",
      "[ 6 10 14]\n",
      "3\n",
      "4\n",
      "5\n",
      "6\n",
      "7\n",
      "8\n",
      "9\n",
      "10\n",
      "11\n",
      "12\n",
      "13\n",
      "14\n",
      "[ 3  4  5  6  7  8  9 10 11 12 13 14]\n"
     ]
    }
   ],
   "source": [
    "import numpy as np\n",
    "a = np.arange(3,15).reshape(3,4)\n",
    "print(a[0][0])\n",
    "print(a[:,1])\n",
    "\n",
    "for row in a:\n",
    "    print(row)\n",
    "\n",
    "for column in a.T:\n",
    "    print(column)\n",
    "\n",
    "for item in a.flat:\n",
    "    print(item)\n",
    "\n",
    "b = a.flatten()\n",
    "print(b)"
   ],
   "metadata": {
    "collapsed": false,
    "pycharm": {
     "name": "#%%2.5\n"
    }
   }
  },
  {
   "cell_type": "code",
   "execution_count": 47,
   "outputs": [
    {
     "name": "stdout",
     "output_type": "stream",
     "text": [
      "[[ 3  4  5  6]\n",
      " [ 7  8  9 10]\n",
      " [11 12 13 14]\n",
      " [ 3  4  5  6]\n",
      " [ 7  8  9 10]\n",
      " [11 12 13 14]]\n",
      "[[ 3  4  5  6  3  4  5  6]\n",
      " [ 7  8  9 10  7  8  9 10]\n",
      " [11 12 13 14 11 12 13 14]]\n",
      "[[ 3  4  5  6]\n",
      " [ 7  8  9 10]\n",
      " [11 12 13 14]\n",
      " [ 3  4  5  6]\n",
      " [ 7  8  9 10]\n",
      " [11 12 13 14]\n",
      " [ 3  4  5  6]\n",
      " [ 7  8  9 10]\n",
      " [11 12 13 14]\n",
      " [ 3  4  5  6]\n",
      " [ 7  8  9 10]\n",
      " [11 12 13 14]]\n",
      "[[1]\n",
      " [1]\n",
      " [1]]\n",
      "[[1 1 1]]\n"
     ]
    }
   ],
   "source": [
    "import numpy as np\n",
    "a = np.arange(3,15).reshape(3,4)\n",
    "b = np.arange(3,15).reshape(3,4)\n",
    "\n",
    "print(np.vstack((a,b)))\n",
    "print(np.hstack((a,b)))\n",
    "\n",
    "print(np.concatenate((a,b,b,a),axis=0))\n",
    "\n",
    "c = np.array([1,1,1])\n",
    "print(c[:,np.newaxis])\n",
    "print(c[np.newaxis,:])"
   ],
   "metadata": {
    "collapsed": false,
    "pycharm": {
     "name": "#%%2.6\n"
    }
   }
  },
  {
   "cell_type": "code",
   "execution_count": 50,
   "outputs": [
    {
     "name": "stdout",
     "output_type": "stream",
     "text": [
      "[array([[ 3,  4],\n",
      "       [ 7,  8],\n",
      "       [11, 12]]), array([[ 5,  6],\n",
      "       [ 9, 10],\n",
      "       [13, 14]])]\n",
      "[array([[ 3,  4],\n",
      "       [ 7,  8],\n",
      "       [11, 12]]), array([[ 5],\n",
      "       [ 9],\n",
      "       [13]]), array([[ 6],\n",
      "       [10],\n",
      "       [14]])]\n"
     ]
    }
   ],
   "source": [
    "import numpy as np\n",
    "a = np.arange(3,15).reshape(3,4)\n",
    "print(np.split(a,2,axis=1))\n",
    "# print(np.array_split(a,3,axis=1)) 不等分裂\n",
    "np.vsplit(a,3)\n",
    "np.hsplit(a,2)"
   ],
   "metadata": {
    "collapsed": false,
    "pycharm": {
     "name": "#%%2.7\n"
    }
   }
  },
  {
   "cell_type": "code",
   "execution_count": 55,
   "outputs": [
    {
     "name": "stdout",
     "output_type": "stream",
     "text": [
      "[ 1  4  5  6  7  8  9 10 11 12 13 14]\n",
      "[ 1  4  5  6  7  8  9 10 11 12 13 14]\n",
      "[ 1  4  5  6  7  8  9 10 11 12 13 14]\n"
     ]
    },
    {
     "data": {
      "text/plain": "False"
     },
     "execution_count": 55,
     "metadata": {},
     "output_type": "execute_result"
    }
   ],
   "source": [
    "import numpy as np\n",
    "a = np.arange(3,15)\n",
    "b = a\n",
    "c = a\n",
    "d = b\n",
    "a[0] = 1\n",
    "print(a)\n",
    "print(b)\n",
    "print(d)\n",
    "b is a\n",
    "b = a.copy()\n",
    "b is a"
   ],
   "metadata": {
    "collapsed": false,
    "pycharm": {
     "name": "#%%2.8\n"
    }
   }
  },
  {
   "cell_type": "code",
   "execution_count": 18,
   "outputs": [
    {
     "name": "stdout",
     "output_type": "stream",
     "text": [
      "0     1.0\n",
      "1     3.0\n",
      "2     6.0\n",
      "3     NaN\n",
      "4    44.0\n",
      "5     1.0\n",
      "dtype: float64\n",
      "DatetimeIndex(['2021-04-10', '2021-04-11', '2021-04-12', '2021-04-13',\n",
      "               '2021-04-14', '2021-04-15'],\n",
      "              dtype='datetime64[ns]', freq='D')\n",
      "                   a         b         c         d\n",
      "2021-04-10  0.330302  0.512858  0.889856  0.027446\n",
      "2021-04-11 -0.456969 -1.056727 -0.307113  0.274279\n",
      "2021-04-12 -1.079527 -0.100775  0.294301  1.281248\n",
      "2021-04-13 -0.410675  1.656470 -1.646020 -2.310514\n",
      "2021-04-14  1.121217  0.410480 -0.070944  0.012767\n",
      "2021-04-15  0.835262 -0.220576  0.042342  0.049499\n"
     ]
    },
    {
     "data": {
      "text/plain": "                   a         b         c         d\n2021-04-11 -0.456969 -1.056727 -0.307113  0.274279\n2021-04-15  0.835262 -0.220576  0.042342  0.049499\n2021-04-12 -1.079527 -0.100775  0.294301  1.281248\n2021-04-14  1.121217  0.410480 -0.070944  0.012767\n2021-04-10  0.330302  0.512858  0.889856  0.027446\n2021-04-13 -0.410675  1.656470 -1.646020 -2.310514",
      "text/html": "<div>\n<style scoped>\n    .dataframe tbody tr th:only-of-type {\n        vertical-align: middle;\n    }\n\n    .dataframe tbody tr th {\n        vertical-align: top;\n    }\n\n    .dataframe thead th {\n        text-align: right;\n    }\n</style>\n<table border=\"1\" class=\"dataframe\">\n  <thead>\n    <tr style=\"text-align: right;\">\n      <th></th>\n      <th>a</th>\n      <th>b</th>\n      <th>c</th>\n      <th>d</th>\n    </tr>\n  </thead>\n  <tbody>\n    <tr>\n      <th>2021-04-11</th>\n      <td>-0.456969</td>\n      <td>-1.056727</td>\n      <td>-0.307113</td>\n      <td>0.274279</td>\n    </tr>\n    <tr>\n      <th>2021-04-15</th>\n      <td>0.835262</td>\n      <td>-0.220576</td>\n      <td>0.042342</td>\n      <td>0.049499</td>\n    </tr>\n    <tr>\n      <th>2021-04-12</th>\n      <td>-1.079527</td>\n      <td>-0.100775</td>\n      <td>0.294301</td>\n      <td>1.281248</td>\n    </tr>\n    <tr>\n      <th>2021-04-14</th>\n      <td>1.121217</td>\n      <td>0.410480</td>\n      <td>-0.070944</td>\n      <td>0.012767</td>\n    </tr>\n    <tr>\n      <th>2021-04-10</th>\n      <td>0.330302</td>\n      <td>0.512858</td>\n      <td>0.889856</td>\n      <td>0.027446</td>\n    </tr>\n    <tr>\n      <th>2021-04-13</th>\n      <td>-0.410675</td>\n      <td>1.656470</td>\n      <td>-1.646020</td>\n      <td>-2.310514</td>\n    </tr>\n  </tbody>\n</table>\n</div>"
     },
     "execution_count": 18,
     "metadata": {},
     "output_type": "execute_result"
    }
   ],
   "source": [
    "import pandas as pd\n",
    "import numpy as np\n",
    "s = pd.Series([1,3,6,np.nan,44,1])\n",
    "print(s)\n",
    "\n",
    "dates = pd.date_range('20210410',periods=6)\n",
    "print(dates)\n",
    "\n",
    "df = pd.DataFrame(np.random.randn(6,4),index=dates,columns=['a','b','c','d'])\n",
    "\n",
    "# df = pd.DataFrame(np.arange(12).reshape((3,4)))\n",
    "print(df)\n",
    "df.dtypes\n",
    "df.index\n",
    "df.columns\n",
    "df.values\n",
    "df.describe()\n",
    "df.T\n",
    "df.sort_index(axis=0,ascending=False)\n",
    "df.sort_values(by='b')"
   ],
   "metadata": {
    "collapsed": false,
    "pycharm": {
     "name": "#%%3.1\n"
    }
   }
  },
  {
   "cell_type": "code",
   "execution_count": 98,
   "outputs": [
    {
     "name": "stdout",
     "output_type": "stream",
     "text": [
      "a   -0.567864\n",
      "b   -0.832057\n",
      "c   -0.572294\n",
      "d    0.551917\n",
      "Name: 2021-04-10 00:00:00, dtype: float64\n"
     ]
    }
   ],
   "source": [
    "import pandas as pd\n",
    "import numpy as np\n",
    "s = pd.Series([1,3,6,np.nan,44,1])\n",
    "dates = pd.date_range('20210410',periods=6)\n",
    "df = pd.DataFrame(np.random.randn(6,4),index=dates,columns=['a','b','c','d'])\n",
    "\n",
    "# number\n",
    "# print(df['a'],df.a)\n",
    "# print(df[0:3])\n",
    "# print(df['20210410':'20210413'])\n",
    "\n",
    "# loc\n",
    "# print(df.loc['20210410'])\n",
    "# print(df.loc[:,['a','b']])\n",
    "# print(df.loc['20210410',['a','b']])\n",
    "\n",
    "# iloc\n",
    "# print(df.iloc[3:5,:])\n",
    "# print(df.iloc[[1,3,5],:])\n",
    "\n",
    "# # .ix is deprecated\n",
    "# print(df.ix[:3,['a','b']])\n",
    "\n",
    "# print(df[df.a<0])"
   ],
   "metadata": {
    "collapsed": false,
    "pycharm": {
     "name": "#%%3.2\n"
    }
   }
  },
  {
   "cell_type": "code",
   "execution_count": 44,
   "outputs": [
    {
     "name": "stdout",
     "output_type": "stream",
     "text": [
      "                   a         b            c         d   f  e\n",
      "2021-04-10  0.000000  2.241519    -0.421715 -0.357219 NaN  1\n",
      "2021-04-11 -0.395553  0.532326    -0.831499 -0.556132 NaN  2\n",
      "2021-04-12 -1.068869  0.421623  1111.000000  0.973207 NaN  3\n",
      "2021-04-13  0.000000 -0.901519     0.211040  0.833294 NaN  4\n",
      "2021-04-14 -0.472545 -1.611837     0.427712  1.902838 NaN  5\n",
      "2021-04-15 -0.213866  0.978141     0.635621 -1.168295 NaN  6\n"
     ]
    }
   ],
   "source": [
    "import pandas as pd\n",
    "import numpy as np\n",
    "s = pd.Series([1,3,6,np.nan,44,1])\n",
    "dates = pd.date_range('20210410',periods=6)\n",
    "df = pd.DataFrame(np.random.randn(6,4),index=dates,columns=['a','b','c','d'])\n",
    "\n",
    "df.iloc[2,2] = 1111\n",
    "df.loc['20210410','a'] = 1111\n",
    "# df[df.a>0] = 0\n",
    "df.a[df.a>0] = 0\n",
    "df['f'] = np.nan\n",
    "df['e'] = pd.Series([1,2,3,4,5,6],index=pd.date_range('20210410',periods=6))\n",
    "print(df)\n"
   ],
   "metadata": {
    "collapsed": false,
    "pycharm": {
     "name": "#%%3.3\n"
    }
   }
  },
  {
   "cell_type": "code",
   "execution_count": 50,
   "outputs": [
    {
     "name": "stdout",
     "output_type": "stream",
     "text": [
      "True\n"
     ]
    }
   ],
   "source": [
    "import pandas as pd\n",
    "import numpy as np\n",
    "s = pd.Series([1,3,6,np.nan,44,1])\n",
    "dates = pd.date_range('20210410',periods=6)\n",
    "df = pd.DataFrame(np.random.randn(6,4),index=dates,columns=['a','b','c','d'])\n",
    "\n",
    "df.iloc[0,1] = np.nan\n",
    "df.iloc[1,2] = np.nan\n",
    "# df = df.dropna(axis=0,how='any') #how={'any','all'}\n",
    "# df = df.fillna(value=0)\n",
    "df = df.isnull()\n",
    "df = np.any(df.isnull()) == True\n",
    "print(df)\n"
   ],
   "metadata": {
    "collapsed": false,
    "pycharm": {
     "name": "#%%3.4\n"
    }
   }
  },
  {
   "cell_type": "code",
   "execution_count": 52,
   "outputs": [
    {
     "name": "stdout",
     "output_type": "stream",
     "text": [
      "                      Glc_Long  Glc_Lati\n",
      "name                                    \n",
      "Hailuogou               101.92     29.58\n",
      "Parlung No.94            96.97     29.38\n",
      "Qiyi                     97.76     39.24\n",
      "Xiaodongkemadi           92.00     33.00\n",
      "Muztagh No.15            75.22     38.23\n",
      "Meikuang                 94.18     35.67\n",
      "NM551                    90.00     31.00\n",
      "Kangwure                 85.82     28.47\n",
      "Urumqi No.1              86.82     43.12\n",
      "Baishui Glacier No.1    100.20     27.10\n",
      "Ts.Tuyuksuyskiy          77.10     43.10\n",
      "No.125                   87.70     50.10\n",
      "Maliy Aktru              87.70     50.00\n",
      "Leviy Aktru              87.70     50.10\n"
     ]
    }
   ],
   "source": [
    "import pandas as pd\n",
    "import numpy as np\n",
    "s = pd.Series([1,3,6,np.nan,44,1])\n",
    "dates = pd.date_range('20210410',periods=6)\n",
    "df = pd.DataFrame(np.random.randn(6,4),index=dates,columns=['a','b','c','d'])\n",
    "\n",
    "data = pd.read_csv('position.csv',index_col='name')\n",
    "print(data)\n",
    "data.to_pickle('position.pickle')\n",
    "data = pd.read_pickle('position.pickle')"
   ],
   "metadata": {
    "collapsed": false,
    "pycharm": {
     "name": "#%%3.5\n"
    }
   }
  },
  {
   "cell_type": "code",
   "execution_count": 64,
   "outputs": [
    {
     "name": "stdout",
     "output_type": "stream",
     "text": [
      "          a         b         c         d\n",
      "0 -0.686535 -0.032749 -1.767900  0.655543\n",
      "1 -0.494465  0.212911 -1.271909 -1.349967\n",
      "2 -1.506161  0.939994 -0.658577  1.864453\n",
      "3  0.890464  0.434122 -0.955453  2.970846\n",
      "4  1.034722 -0.730178  0.646463  1.522345\n",
      "5 -1.220496 -0.140690  2.302037 -0.678449\n",
      "6  1.000000  3.000000  6.000000  1.000000\n"
     ]
    }
   ],
   "source": [
    "import pandas as pd\n",
    "import numpy as np\n",
    "\n",
    "# concatenating\n",
    "s = pd.Series([1,3,6,1],index=['a','b','c','d'])\n",
    "dates = pd.date_range('20210410',periods=6)\n",
    "df1 = pd.DataFrame(np.random.randn(6,4),index=dates,columns=['a','b','c','d'])\n",
    "df2 = pd.DataFrame(np.random.randn(6,4),index=dates,columns=['a','b','c','d'])\n",
    "df3 = pd.DataFrame(np.random.randn(6,4),index=dates,columns=['a','b','c','e'])\n",
    "# res = pd.concat([df1,df2,df3],axis=0,ignore_index=True)\n",
    "# print(res)\n",
    "\n",
    "#join,['inner','outer']\n",
    "# res = pd.concat([df1,df3],join='inner',ignore_index=True)\n",
    "# print(res)\n",
    "\n",
    "#join_axes\n",
    "# res = pd.concat([df1,df3],join_axes=[df1.index],join='inner')\n",
    "\n",
    "#append\n",
    "# res = df1.append(df2,ignore_index=True)\n",
    "res = df1.append(s,ignore_index=True)\n",
    "print(res)"
   ],
   "metadata": {
    "collapsed": false,
    "pycharm": {
     "name": "#%%3.6\n"
    }
   }
  },
  {
   "cell_type": "code",
   "execution_count": 73,
   "outputs": [
    {
     "name": "stdout",
     "output_type": "stream",
     "text": [
      "          a         b         c   d         e   indicator\n",
      "0 -1.216894  1.592524 -0.758134 NaN -0.817994  right_only\n",
      "1  1.003281  0.474827 -0.079961 NaN -0.534497  right_only\n",
      "2  0.346510  0.196888  1.458720 NaN  0.277879  right_only\n",
      "3 -1.503612 -1.268718  1.351216 NaN  0.718625  right_only\n",
      "4  0.524971 -2.005343 -1.986081 NaN -0.518431  right_only\n",
      "5 -0.978838 -1.769183 -0.339419 NaN -0.404863  right_only\n"
     ]
    }
   ],
   "source": [
    "import pandas as pd\n",
    "import numpy as np\n",
    "\n",
    "# concatenating\n",
    "s = pd.Series([1,3,6,1],index=['a','b','c','d'])\n",
    "dates = pd.date_range('20210410',periods=6)\n",
    "df1 = pd.DataFrame(np.random.randn(6,4),index=dates,columns=['a','b','c','d'])\n",
    "# df2 = pd.DataFrame(np.random.randn(6,4),index=dates,columns=['a','b','c','d'])\n",
    "df3 = pd.DataFrame(np.random.randn(6,4),index=dates,columns=['a','b','c','e'])\n",
    "\n",
    "res = pd.merge(left=df1,right=df3,on=['a','b','c'],how='right',indicator='indicator')\n",
    "print(res)"
   ],
   "metadata": {
    "collapsed": false,
    "pycharm": {
     "name": "#%%3.7\n"
    }
   }
  },
  {
   "cell_type": "code",
   "execution_count": 113,
   "outputs": [
    {
     "name": "stdout",
     "output_type": "stream",
     "text": [
      "name Hailuogou Parlung No.94    Qiyi Xiaodongkemadi Muztagh No.15 Meikuang  \\\n",
      "1957       NaN           NaN     NaN            NaN           NaN      NaN   \n",
      "1958       NaN           NaN     NaN            NaN           NaN      NaN   \n",
      "1959       NaN           NaN     NaN            NaN           NaN      NaN   \n",
      "1960       NaN           NaN     NaN            NaN           NaN      NaN   \n",
      "1961       NaN           NaN     NaN            NaN           NaN      NaN   \n",
      "...        ...           ...     ...            ...           ...      ...   \n",
      "2013   -274.54        -119.5 -151.78        -582.27        -45.61  -274.46   \n",
      "2014       NaN           NaN     NaN            NaN           NaN      NaN   \n",
      "2015       NaN           NaN     NaN            NaN           NaN      NaN   \n",
      "2016       NaN           NaN     NaN            NaN           NaN      NaN   \n",
      "2017       NaN           NaN     NaN            NaN           NaN      NaN   \n",
      "\n",
      "name NM551 Kangwure Urumqi No.1  Baishui Glacier No.1 Ts．Tuyuksuyskiy  \\\n",
      "1957   NaN      NaN          NaN                  NaN        -164.844   \n",
      "1958   NaN      NaN          NaN                  NaN         322.274   \n",
      "1959   NaN      NaN           87                  NaN        -429.408   \n",
      "1960   NaN      NaN         -188                  NaN        -113.898   \n",
      "1961   NaN      NaN          -33                  NaN        -568.839   \n",
      "...    ...      ...          ...                  ...             ...   \n",
      "2013 -1652      NaN         -536                -1872        -352.541   \n",
      "2014   NaN      NaN         -185                -1590         -1093.5   \n",
      "2015   NaN      NaN         -815                -1490             NaN   \n",
      "2016   NaN      NaN        -1017                -1872             NaN   \n",
      "2017   NaN      NaN          NaN                -1713             NaN   \n",
      "\n",
      "name No． 125 ( Vodopadniy)  Maliy Aktru  Leviy Aktru   \n",
      "1957                    NaN          NaN          NaN  \n",
      "1958                    NaN          NaN          NaN  \n",
      "1959                    NaN          NaN          NaN  \n",
      "1960                    NaN          NaN          NaN  \n",
      "1961                    NaN          NaN          NaN  \n",
      "...                     ...          ...          ...  \n",
      "2013                    NaN          NaN          NaN  \n",
      "2014                    NaN          NaN          NaN  \n",
      "2015                    NaN          NaN          NaN  \n",
      "2016                    NaN          NaN          NaN  \n",
      "2017                    NaN          NaN          NaN  \n",
      "\n",
      "[61 rows x 14 columns]\n"
     ]
    },
    {
     "data": {
      "text/plain": "<matplotlib.axes._subplots.AxesSubplot at 0x26bf51dfcc0>"
     },
     "execution_count": 113,
     "metadata": {},
     "output_type": "execute_result"
    },
    {
     "name": "stderr",
     "output_type": "stream",
     "text": [
      "e:\\python\\lib\\site-packages\\matplotlib\\backends\\backend_agg.py:211: RuntimeWarning: Glyph 65294 missing from current font.\n",
      "  font.set_text(s, 0.0, flags=flags)\n",
      "e:\\python\\lib\\site-packages\\matplotlib\\backends\\backend_agg.py:180: RuntimeWarning: Glyph 65294 missing from current font.\n",
      "  font.set_text(s, 0, flags=flags)\n"
     ]
    },
    {
     "data": {
      "text/plain": "<Figure size 432x288 with 1 Axes>",
      "image/png": "[encoded data removed]"
     },
     "metadata": {
      "needs_background": "light"
     },
     "output_type": "display_data"
    }
   ],
   "source": [
    "import pandas as pd\n",
    "import numpy as np\n",
    "import matplotlib.pyplot as plt\n",
    "\n",
    "# Series\n",
    "# date = pd.Series(np.random.randn(1000),index=np.arange(1000))\n",
    "# date = date.cumsum()\n",
    "# date.plot()\n",
    "\n",
    "#DataFrame\n",
    "data = pd.read_csv('glacier_MB.csv')\n",
    "data = data.T\n",
    "data.columns = data.iloc[0]\n",
    "data = data.drop(['name'])\n",
    "# data = data.drop(index='name',axis=0)\n",
    "print(data)\n",
    "data.plot()\n",
    "# data.iloc[11].plot()\n",
    "# data.iloc[12].plot()\n",
    "# data.iloc[13].plot()\n",
    "# plt.legend()\n",
    "# data.plot(x=column,y='Qiyi')"
   ],
   "metadata": {
    "collapsed": false,
    "pycharm": {
     "name": "#%%3.8\n"
    }
   }
  }
 ],
 "metadata": {
  "kernelspec": {
   "display_name": "Python 3",
   "language": "python",
   "name": "python3"
  },
  "language_info": {
   "codemirror_mode": {
    "name": "ipython",
    "version": 2
   },
   "file_extension": ".py",
   "mimetype": "text/x-python",
   "name": "python",
   "nbconvert_exporter": "python",
   "pygments_lexer": "ipython2",
   "version": "2.7.6"
  }
 },
 "nbformat": 4,
 "nbformat_minor": 0
}